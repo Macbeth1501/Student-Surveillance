{
 "cells": [
  {
   "cell_type": "code",
   "execution_count": null,
   "id": "07ff7cd0-f84e-4d03-93b7-793075594688",
   "metadata": {},
   "outputs": [
    {
     "name": "stdout",
     "output_type": "stream",
     "text": [
      "INFO:tensorflow:Mixed precision compatibility check (mixed_float16): OK\n",
      "Your GPU will likely run quickly with dtype policy mixed_float16 as it has compute capability of at least 7.0. Your GPU: NVIDIA GeForce RTX 3050 Laptop GPU, compute capability 8.6\n",
      "TensorFlow version: 2.10.0\n",
      "GPU Available: [PhysicalDevice(name='/physical_device:GPU:0', device_type='GPU')]\n",
      "Iteration 500 completed\n",
      "Iteration 1000 completed\n",
      "Iteration 1500 completed\n",
      "Iteration 2000 completed\n",
      "Iteration 2500 completed\n"
     ]
    }
   ],
   "source": [
    "\n",
    "import tensorflow as tf\n",
    "import time\n",
    "\n",
    "# Clear GPU memory\n",
    "tf.keras.backend.clear_session()\n",
    "\n",
    "# Enable mixed precision for lower VRAM and utilization\n",
    "from tensorflow.keras.mixed_precision import set_global_policy\n",
    "set_global_policy('mixed_float16')\n",
    "\n",
    "# Print TensorFlow version and GPU availability\n",
    "print(\"TensorFlow version:\", tf.__version__)\n",
    "print(\"GPU Available:\", tf.config.list_physical_devices('GPU'))\n",
    "\n",
    "# Start timing\n",
    "start_time = time.time()\n",
    "\n",
    "# Perform matrix multiplications on GPU\n",
    "with tf.device('/GPU:0'):\n",
    "    # Small matrices to fit 4GB VRAM\n",
    "    a = tf.random.normal([6000, 6000])\n",
    "    b = tf.random.normal([6000, 6000])\n",
    "    # 5000 iterations for ~2-minute runtime\n",
    "    for i in range(5000):\n",
    "        result = tf.matmul(a, b)\n",
    "        if (i + 1) % 500 == 0:  # Print progress\n",
    "            print(f\"Iteration {i + 1} completed\")\n",
    "\n",
    "# Calculate and print runtime\n",
    "end_time = time.time()\n",
    "runtime = end_time - start_time\n",
    "print(f\"Matrix multiplication completed in {runtime:.2f} seconds on GPU\")\n"
   ]
  },
  {
   "cell_type": "code",
   "execution_count": null,
   "id": "a9dbf2ee-f618-4203-b499-38c6d348ac65",
   "metadata": {},
   "outputs": [],
   "source": []
  }
 ],
 "metadata": {
  "kernelspec": {
   "display_name": "Python (student-surveillance-venv)",
   "language": "python",
   "name": "student-surveillance-venv"
  },
  "language_info": {
   "codemirror_mode": {
    "name": "ipython",
    "version": 3
   },
   "file_extension": ".py",
   "mimetype": "text/x-python",
   "name": "python",
   "nbconvert_exporter": "python",
   "pygments_lexer": "ipython3",
   "version": "3.10.0"
  }
 },
 "nbformat": 4,
 "nbformat_minor": 5
}
