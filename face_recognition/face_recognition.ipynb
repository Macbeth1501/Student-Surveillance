{
 "cells": [
  {
   "cell_type": "markdown",
   "id": "1820dc5f-3f3a-4d14-a965-4daf0087ac72",
   "metadata": {},
   "source": [
    "# Model-1 Face Recognition"
   ]
  },
  {
   "cell_type": "markdown",
   "id": "66527ef4-56e8-4b9f-ad04-43cac8c3e95c",
   "metadata": {},
   "source": [
    "## Installing Dependencies"
   ]
  }
 ],
 "metadata": {
  "kernelspec": {
   "display_name": "Python (student-surveillance-venv)",
   "language": "python",
   "name": "student-surveillance-venv"
  },
  "language_info": {
   "codemirror_mode": {
    "name": "ipython",
    "version": 3
   },
   "file_extension": ".py",
   "mimetype": "text/x-python",
   "name": "python",
   "nbconvert_exporter": "python",
   "pygments_lexer": "ipython3",
   "version": "3.10.0"
  }
 },
 "nbformat": 4,
 "nbformat_minor": 5
}
